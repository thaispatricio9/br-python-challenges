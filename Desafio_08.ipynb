{
  "nbformat": 4,
  "nbformat_minor": 0,
  "metadata": {
    "anaconda-cloud": {},
    "colab": {
      "name": "Desafio 8.ipynb",
      "provenance": [],
      "toc_visible": true,
      "include_colab_link": true
    },
    "kernelspec": {
      "display_name": "Python 3",
      "language": "python",
      "name": "python3"
    },
    "language_info": {
      "codemirror_mode": {
        "name": "ipython",
        "version": 3
      },
      "file_extension": ".py",
      "mimetype": "text/x-python",
      "name": "python",
      "nbconvert_exporter": "python",
      "pygments_lexer": "ipython3",
      "version": "3.7.9"
    }
  },
  "cells": [
    {
      "cell_type": "markdown",
      "metadata": {
        "id": "view-in-github",
        "colab_type": "text"
      },
      "source": [
        "<a href=\"https://colab.research.google.com/github/thaispatricio9/br-python-challenges/blob/master/Desafio_08.ipynb\" target=\"_parent\"><img src=\"https://colab.research.google.com/assets/colab-badge.svg\" alt=\"Open In Colab\"/></a>"
      ]
    },
    {
      "cell_type": "markdown",
      "metadata": {
        "id": "o3tkeMDNf6Jo"
      },
      "source": [
        "### Desafio 8\n",
        "\n",
        "Escreva um script Python para encontrar as 10 palavras mais longas em um arquivo de texto.\n",
        "O arquivo .txt está localizado na mesma pasta do projeto (**texto.txt**)."
      ]
    },
    {
      "cell_type": "code",
      "metadata": {
        "id": "ZYbqEWBG5nKx"
      },
      "source": [
        "f = open(\"texto.txt\", \"r\")\n",
        "rows = f.readlines()"
      ],
      "execution_count": 28,
      "outputs": []
    },
    {
      "cell_type": "code",
      "metadata": {
        "id": "U5SAdH7VyVhw",
        "outputId": "95b6ce3e-d41a-446a-aa5c-bd17f935c351",
        "colab": {
          "base_uri": "https://localhost:8080/"
        }
      },
      "source": [
        "words = []\n",
        "for row in rows:\n",
        "  for word in row.replace(\".\", \" \").replace(\")\", \" \").replace(\",\", \" \").split(\" \"):\n",
        "    words.append(word)\n",
        "\n",
        "sortedwords = sorted(set(words), key=len, reverse=True)[0:10]\n",
        "for word in sortedwords:\n",
        "  print(word)"
      ],
      "execution_count": 32,
      "outputs": [
        {
          "output_type": "stream",
          "text": [
            "object-oriented\n",
            "general-purpose\n",
            "comprehensive\n",
            "intermediate\n",
            "interpreted\n",
            "readability\n",
            "programmers\n",
            "programming\n",
            "management\n",
            "imperative\n"
          ],
          "name": "stdout"
        }
      ]
    }
  ]
}