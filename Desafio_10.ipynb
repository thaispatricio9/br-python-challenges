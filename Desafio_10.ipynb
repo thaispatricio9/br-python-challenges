{
  "nbformat": 4,
  "nbformat_minor": 0,
  "metadata": {
    "anaconda-cloud": {},
    "colab": {
      "name": "Desafio 10.ipynb",
      "provenance": [],
      "include_colab_link": true
    },
    "kernelspec": {
      "display_name": "Python 3",
      "language": "python",
      "name": "python3"
    },
    "language_info": {
      "codemirror_mode": {
        "name": "ipython",
        "version": 3
      },
      "file_extension": ".py",
      "mimetype": "text/x-python",
      "name": "python",
      "nbconvert_exporter": "python",
      "pygments_lexer": "ipython3",
      "version": "3.7.9"
    }
  },
  "cells": [
    {
      "cell_type": "markdown",
      "metadata": {
        "id": "view-in-github",
        "colab_type": "text"
      },
      "source": [
        "<a href=\"https://colab.research.google.com/github/thaispatricio9/br-python-challenges/blob/master/Desafio_10.ipynb\" target=\"_parent\"><img src=\"https://colab.research.google.com/assets/colab-badge.svg\" alt=\"Open In Colab\"/></a>"
      ]
    },
    {
      "cell_type": "markdown",
      "metadata": {
        "id": "a4-FLDRof6Jv"
      },
      "source": [
        "### Desafio 10\n",
        "\n",
        "Dada uma lista, divida-a em 3 partes iguais e reverta a ordem de cada lista.\n",
        "\n",
        "**Exemplo:** \n",
        "\n",
        "Entrada: \\\n",
        "sampleList = [11, 45, 8, 23, 14, 12, 78, 45, 89]\n",
        "\n",
        "Saída: \\\n",
        "Parte 1 [8, 45, 11] \\\n",
        "Parte 2 [12, 14, 23] \\\n",
        "Parte 3 [89, 45, 78] "
      ]
    },
    {
      "cell_type": "code",
      "metadata": {
        "id": "IJ70pUjnf6Jw"
      },
      "source": [
        "# Seu código\n",
        "def divide_inverte_lista(lista):\n",
        "  partes = int(len(lista)/3)\n",
        "  p1 = lista[0:partes]\n",
        "  parte1 = [p1[i] for i in range(len(p1)-1, -1, -1)]\n",
        "  p2 = lista[partes:partes*2]\n",
        "  parte2 = [p2[i] for i in range(len(p2)-1, -1, -1)]\n",
        "  p3 = lista[partes*2:-1]\n",
        "  parte3 = [p3[i] for i in range(len(p3)-1, -1, -1)]\n",
        "  return print(\"Parte1\", parte1, \"\\nParte2\", parte2, \"\\nParte3\", parte3)\n",
        "  "
      ],
      "execution_count": 7,
      "outputs": []
    },
    {
      "cell_type": "code",
      "metadata": {
        "colab": {
          "base_uri": "https://localhost:8080/"
        },
        "id": "pNrXNVqf8Wc1",
        "outputId": "0f081243-85ec-4ced-f34b-d8cad19108c9"
      },
      "source": [
        "\n",
        "sampleList = [11, 45, 8, 23, 14, 12, 78, 45, 89]\n",
        "divide_inverte_lista(sampleList)"
      ],
      "execution_count": 8,
      "outputs": [
        {
          "output_type": "stream",
          "text": [
            "Parte1 [8, 45, 11] \n",
            "Parte2 [12, 14, 23] \n",
            "Parte3 [45, 78]\n"
          ],
          "name": "stdout"
        }
      ]
    }
  ]
}